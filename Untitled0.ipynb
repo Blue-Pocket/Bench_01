{
  "nbformat": 4,
  "nbformat_minor": 0,
  "metadata": {
    "colab": {
      "name": "Untitled0.ipynb",
      "version": "0.3.2",
      "provenance": [],
      "include_colab_link": true
    },
    "kernelspec": {
      "name": "python3",
      "display_name": "Python 3"
    }
  },
  "cells": [
    {
      "cell_type": "markdown",
      "metadata": {
        "id": "view-in-github",
        "colab_type": "text"
      },
      "source": [
        "<a href=\"https://colab.research.google.com/github/tachisaruyanagi/Bench_01/blob/master/Untitled0.ipynb\" target=\"_parent\"><img src=\"https://colab.research.google.com/assets/colab-badge.svg\" alt=\"Open In Colab\"/></a>"
      ]
    },
    {
      "cell_type": "code",
      "metadata": {
        "id": "EmkjuiXisttn",
        "colab_type": "code",
        "outputId": "57e174ad-1d83-42aa-87ef-53c374e52244",
        "colab": {
          "base_uri": "https://localhost:8080/",
          "height": 85
        }
      },
      "source": [
        "my_dic={\"a\":10,\"b\":20,\"c\":30}\n",
        "print (my_dic)\n",
        "my_dic_add={\"d\":40,\"e\":50}\n",
        "my_dic.update(my_dic_add)\n",
        "print (my_dic)\n",
        "print (my_dic.items())\n",
        "\n",
        "print (my_dic.keys())\n"
      ],
      "execution_count": 7,
      "outputs": [
        {
          "output_type": "stream",
          "text": [
            "{'a': 10, 'b': 20, 'c': 30}\n",
            "{'a': 10, 'b': 20, 'c': 30, 'd': 40, 'e': 50}\n",
            "dict_items([('a', 10), ('b', 20), ('c', 30), ('d', 40), ('e', 50)])\n",
            "dict_keys(['a', 'b', 'c', 'd', 'e'])\n"
          ],
          "name": "stdout"
        }
      ]
    }
  ]
}